{
 "cells": [
  {
   "cell_type": "code",
   "execution_count": 1,
   "metadata": {},
   "outputs": [],
   "source": [
    "import numpy as np\n",
    "import pandas as pd\n",
    "from matplotlib import pyplot as plt"
   ]
  },
  {
   "cell_type": "code",
   "execution_count": 2,
   "metadata": {},
   "outputs": [],
   "source": [
    "data = pd.read_excel(\"GE6723_pnl_2019-06-01_to_2020-06-26.xlsx\", sheet_name='PNL')"
   ]
  },
  {
   "cell_type": "code",
   "execution_count": 3,
   "metadata": {},
   "outputs": [],
   "source": [
    "pl_df = data.iloc[30:,:11]\n",
    "pl_df.columns = data.iloc[29,:11]\n",
    "pl_df = pl_df.dropna(axis=1, how='all')\n",
    "pl_df = pl_df.sort_values(by=['Realized P&L','Realized P&L %'])"
   ]
  },
  {
   "cell_type": "code",
   "execution_count": 4,
   "metadata": {},
   "outputs": [],
   "source": [
    "tax_df = data.iloc[18:27,1:3]\n",
    "tax_df.columns = data.iloc[17,1:3]"
   ]
  },
  {
   "cell_type": "code",
   "execution_count": 5,
   "metadata": {
    "scrolled": false
   },
   "outputs": [
    {
     "data": {
      "text/html": [
       "<div>\n",
       "<style scoped>\n",
       "    .dataframe tbody tr th:only-of-type {\n",
       "        vertical-align: middle;\n",
       "    }\n",
       "\n",
       "    .dataframe tbody tr th {\n",
       "        vertical-align: top;\n",
       "    }\n",
       "\n",
       "    .dataframe thead th {\n",
       "        text-align: right;\n",
       "    }\n",
       "</style>\n",
       "<table border=\"1\" class=\"dataframe\">\n",
       "  <thead>\n",
       "    <tr style=\"text-align: right;\">\n",
       "      <th>29</th>\n",
       "      <th>Symbol</th>\n",
       "      <th>ISIN</th>\n",
       "      <th>Qty</th>\n",
       "      <th>Buy Average</th>\n",
       "      <th>Buy Value</th>\n",
       "      <th>Sell Average</th>\n",
       "      <th>Sell Value</th>\n",
       "      <th>Realized P&amp;L</th>\n",
       "      <th>Realized P&amp;L %</th>\n",
       "      <th>Open Qty type</th>\n",
       "    </tr>\n",
       "  </thead>\n",
       "  <tbody>\n",
       "    <tr>\n",
       "      <th>97</th>\n",
       "      <td>KILITCH-T</td>\n",
       "      <td>INE729D01010</td>\n",
       "      <td>210</td>\n",
       "      <td>128.134</td>\n",
       "      <td>26908.1</td>\n",
       "      <td>119.977</td>\n",
       "      <td>25195.2</td>\n",
       "      <td>-1712.95</td>\n",
       "      <td>-6.3659</td>\n",
       "      <td>buy</td>\n",
       "    </tr>\n",
       "    <tr>\n",
       "      <th>52</th>\n",
       "      <td>CESC</td>\n",
       "      <td>INE486A01013</td>\n",
       "      <td>50</td>\n",
       "      <td>730.196</td>\n",
       "      <td>36509.8</td>\n",
       "      <td>712.4</td>\n",
       "      <td>35620</td>\n",
       "      <td>-889.8</td>\n",
       "      <td>-2.4372</td>\n",
       "      <td>buy</td>\n",
       "    </tr>\n",
       "    <tr>\n",
       "      <th>85</th>\n",
       "      <td>IGL</td>\n",
       "      <td>INE203G01027</td>\n",
       "      <td>176</td>\n",
       "      <td>487.848</td>\n",
       "      <td>85861.2</td>\n",
       "      <td>484.979</td>\n",
       "      <td>85356.4</td>\n",
       "      <td>-504.8</td>\n",
       "      <td>-0.5879</td>\n",
       "      <td>buy</td>\n",
       "    </tr>\n",
       "    <tr>\n",
       "      <th>35</th>\n",
       "      <td>APLLTD</td>\n",
       "      <td>INE901L01018</td>\n",
       "      <td>11</td>\n",
       "      <td>867.255</td>\n",
       "      <td>9539.8</td>\n",
       "      <td>829.009</td>\n",
       "      <td>9119.1</td>\n",
       "      <td>-420.7</td>\n",
       "      <td>-4.4099</td>\n",
       "      <td>buy</td>\n",
       "    </tr>\n",
       "    <tr>\n",
       "      <th>72</th>\n",
       "      <td>GODREJIND</td>\n",
       "      <td>INE233A01035</td>\n",
       "      <td>45</td>\n",
       "      <td>435.727</td>\n",
       "      <td>19607.7</td>\n",
       "      <td>426.73</td>\n",
       "      <td>19202.8</td>\n",
       "      <td>-404.85</td>\n",
       "      <td>-2.0648</td>\n",
       "      <td>buy</td>\n",
       "    </tr>\n",
       "  </tbody>\n",
       "</table>\n",
       "</div>"
      ],
      "text/plain": [
       "29     Symbol          ISIN  Qty Buy Average Buy Value Sell Average  \\\n",
       "97  KILITCH-T  INE729D01010  210     128.134   26908.1      119.977   \n",
       "52       CESC  INE486A01013   50     730.196   36509.8        712.4   \n",
       "85        IGL  INE203G01027  176     487.848   85861.2      484.979   \n",
       "35     APLLTD  INE901L01018   11     867.255    9539.8      829.009   \n",
       "72  GODREJIND  INE233A01035   45     435.727   19607.7       426.73   \n",
       "\n",
       "29 Sell Value Realized P&L Realized P&L % Open Qty type  \n",
       "97    25195.2     -1712.95        -6.3659           buy  \n",
       "52      35620       -889.8        -2.4372           buy  \n",
       "85    85356.4       -504.8        -0.5879           buy  \n",
       "35     9119.1       -420.7        -4.4099           buy  \n",
       "72    19202.8      -404.85        -2.0648           buy  "
      ]
     },
     "execution_count": 5,
     "metadata": {},
     "output_type": "execute_result"
    }
   ],
   "source": [
    "pl_df.head(5)"
   ]
  },
  {
   "cell_type": "code",
   "execution_count": 6,
   "metadata": {},
   "outputs": [
    {
     "data": {
      "text/html": [
       "<div>\n",
       "<style scoped>\n",
       "    .dataframe tbody tr th:only-of-type {\n",
       "        vertical-align: middle;\n",
       "    }\n",
       "\n",
       "    .dataframe tbody tr th {\n",
       "        vertical-align: top;\n",
       "    }\n",
       "\n",
       "    .dataframe thead th {\n",
       "        text-align: right;\n",
       "    }\n",
       "</style>\n",
       "<table border=\"1\" class=\"dataframe\">\n",
       "  <thead>\n",
       "    <tr style=\"text-align: right;\">\n",
       "      <th>17</th>\n",
       "      <th>Account Head</th>\n",
       "      <th>Tax Amount</th>\n",
       "    </tr>\n",
       "  </thead>\n",
       "  <tbody>\n",
       "    <tr>\n",
       "      <th>18</th>\n",
       "      <td>Brokerage - Z</td>\n",
       "      <td>623.69</td>\n",
       "    </tr>\n",
       "    <tr>\n",
       "      <th>19</th>\n",
       "      <td>Central GST - Z</td>\n",
       "      <td>0</td>\n",
       "    </tr>\n",
       "    <tr>\n",
       "      <th>20</th>\n",
       "      <td>Clearing Charges - Z</td>\n",
       "      <td>0</td>\n",
       "    </tr>\n",
       "    <tr>\n",
       "      <th>21</th>\n",
       "      <td>Exchange Transaction Charges - Z</td>\n",
       "      <td>132.879</td>\n",
       "    </tr>\n",
       "    <tr>\n",
       "      <th>22</th>\n",
       "      <td>Integrated GST - Z</td>\n",
       "      <td>136.182</td>\n",
       "    </tr>\n",
       "    <tr>\n",
       "      <th>23</th>\n",
       "      <td>SEBI Turnover Fees - Z</td>\n",
       "      <td>3.4891</td>\n",
       "    </tr>\n",
       "    <tr>\n",
       "      <th>24</th>\n",
       "      <td>Securities Transaction Tax - Z</td>\n",
       "      <td>1246</td>\n",
       "    </tr>\n",
       "    <tr>\n",
       "      <th>25</th>\n",
       "      <td>Stamp Duty - Z</td>\n",
       "      <td>149.034</td>\n",
       "    </tr>\n",
       "    <tr>\n",
       "      <th>26</th>\n",
       "      <td>State GST - Z</td>\n",
       "      <td>0</td>\n",
       "    </tr>\n",
       "  </tbody>\n",
       "</table>\n",
       "</div>"
      ],
      "text/plain": [
       "17                      Account Head Tax Amount\n",
       "18                     Brokerage - Z     623.69\n",
       "19                   Central GST - Z          0\n",
       "20              Clearing Charges - Z          0\n",
       "21  Exchange Transaction Charges - Z    132.879\n",
       "22                Integrated GST - Z    136.182\n",
       "23            SEBI Turnover Fees - Z     3.4891\n",
       "24    Securities Transaction Tax - Z       1246\n",
       "25                    Stamp Duty - Z    149.034\n",
       "26                     State GST - Z          0"
      ]
     },
     "execution_count": 6,
     "metadata": {},
     "output_type": "execute_result"
    }
   ],
   "source": [
    "tax_df"
   ]
  },
  {
   "cell_type": "code",
   "execution_count": 7,
   "metadata": {},
   "outputs": [
    {
     "data": {
      "text/plain": [
       "Text(0, 0.5, 'Realized P&L %')"
      ]
     },
     "execution_count": 7,
     "metadata": {},
     "output_type": "execute_result"
    },
    {
     "data": {
      "image/png": "[encoded data removed]",
      "text/plain": [
       "<Figure size 432x288 with 1 Axes>"
      ]
     },
     "metadata": {
      "needs_background": "light"
     },
     "output_type": "display_data"
    }
   ],
   "source": [
    "pl_df1 = pl_df[pl_df[\"Buy Value\"] < 40000]\n",
    "pl_df11 = pl_df1[pl_df1[\"Realized P&L %\"] > 0]\n",
    "pl_df12 = pl_df1[pl_df1[\"Realized P&L %\"] < 0]\n",
    "plt.scatter(pl_df11[\"Buy Value\"],pl_df11[\"Realized P&L %\"],color=\"green\")\n",
    "plt.scatter(pl_df12[\"Buy Value\"],pl_df12[\"Realized P&L %\"],color=\"red\")\n",
    "plt.xlabel(\"Buy Value\")\n",
    "plt.ylabel(\"Realized P&L %\")"
   ]
  },
  {
   "cell_type": "code",
   "execution_count": 8,
   "metadata": {},
   "outputs": [
    {
     "data": {
      "text/plain": [
       "Text(0, 0.5, 'Realized P&L %')"
      ]
     },
     "execution_count": 8,
     "metadata": {},
     "output_type": "execute_result"
    },
    {
     "data": {
      "image/png": "[encoded data removed]",
      "text/plain": [
       "<Figure size 432x288 with 1 Axes>"
      ]
     },
     "metadata": {
      "needs_background": "light"
     },
     "output_type": "display_data"
    }
   ],
   "source": [
    "pl_df2 = pl_df[pl_df[\"Buy Average\"] < 4000]\n",
    "pl_df21 = pl_df2[pl_df2[\"Realized P&L %\"] > 0]\n",
    "pl_df22 = pl_df2[pl_df2[\"Realized P&L %\"] < 0]\n",
    "plt.scatter(pl_df21[\"Buy Average\"],pl_df21[\"Realized P&L %\"],color=\"green\")\n",
    "plt.scatter(pl_df22[\"Buy Average\"],pl_df22[\"Realized P&L %\"],color=\"red\")\n",
    "plt.xlabel(\"Buy Average\")\n",
    "plt.ylabel(\"Realized P&L %\")"
   ]
  },
  {
   "cell_type": "code",
   "execution_count": 9,
   "metadata": {
    "scrolled": true
   },
   "outputs": [
    {
     "data": {
      "text/plain": [
       "Text(0, 0.5, 'Realized P&L')"
      ]
     },
     "execution_count": 9,
     "metadata": {},
     "output_type": "execute_result"
    },
    {
     "data": {
      "image/png": "[encoded data removed]",
      "text/plain": [
       "<Figure size 432x288 with 1 Axes>"
      ]
     },
     "metadata": {
      "needs_background": "light"
     },
     "output_type": "display_data"
    }
   ],
   "source": [
    "pl_df3 = pl_df[pl_df[\"Qty\"] < 110]\n",
    "pl_df31 = pl_df3[pl_df3[\"Realized P&L %\"] > 0]\n",
    "pl_df32 = pl_df3[pl_df3[\"Realized P&L %\"] < 0]\n",
    "plt.scatter(pl_df31[\"Qty\"],pl_df31[\"Realized P&L %\"],color=\"green\")\n",
    "plt.scatter(pl_df32[\"Qty\"],pl_df32[\"Realized P&L %\"],color=\"red\")\n",
    "plt.xlabel(\"Qty\")\n",
    "plt.ylabel(\"Realized P&L\")"
   ]
  },
  {
   "cell_type": "code",
   "execution_count": 10,
   "metadata": {},
   "outputs": [
    {
     "data": {
      "text/plain": [
       "Text(0, 0.5, 'Realized P&L %')"
      ]
     },
     "execution_count": 10,
     "metadata": {},
     "output_type": "execute_result"
    },
    {
     "data": {
      "image/png": "[encoded data removed]",
      "text/plain": [
       "<Figure size 432x288 with 1 Axes>"
      ]
     },
     "metadata": {
      "needs_background": "light"
     },
     "output_type": "display_data"
    }
   ],
   "source": [
    "pl_df4 = pl_df[pl_df[\"Buy Average\"] < 5000]\n",
    "pl_df4 = pl_df4[pl_df4[\"Qty\"] < 501]\n",
    "pl_df41 = pl_df4[pl_df4[\"Realized P&L %\"] > 0]\n",
    "pl_df42 = pl_df4[pl_df4[\"Realized P&L %\"] < 0]\n",
    "plt.scatter(pl_df41[\"Qty\"],pl_df41[\"Realized P&L %\"],color=\"green\")\n",
    "plt.scatter(pl_df42[\"Qty\"],pl_df42[\"Realized P&L %\"],color=\"red\")\n",
    "plt.xlabel(\"Qty\")\n",
    "plt.ylabel(\"Realized P&L %\")"
   ]
  },
  {
   "cell_type": "code",
   "execution_count": 11,
   "metadata": {},
   "outputs": [],
   "source": [
    "profit_df = pl_df[pl_df[\"Realized P&L\"]>0]\n",
    "loss_df = pl_df[pl_df[\"Realized P&L\"]<=0]\n",
    "\n",
    "total_trades = len(pl_df[\"Realized P&L\"])\n",
    "pl_amount =  round(pl_df[\"Realized P&L\"].sum(), 2)\n",
    "profit_amount = round(profit_df[\"Realized P&L\"].sum(), 2)\n",
    "loss_amount = round(loss_df[\"Realized P&L\"].sum(), 2)\n",
    "\n",
    "mean_pl = round(pl_df[\"Realized P&L\"].mean(), 2)\n",
    "median_pl = round(pl_df[\"Realized P&L\"].median(), 2)\n",
    "\n",
    "profit_trades = len(profit_df)\n",
    "loss_trades = len(loss_df)\n",
    "\n",
    "avarage_profit_in_profit_trades = round(profit_df[\"Realized P&L\"].mean(), 2)\n",
    "avarage_loss_in_loss_trades = round(loss_df[\"Realized P&L\"].mean(), 2)\n"
   ]
  },
  {
   "cell_type": "code",
   "execution_count": 12,
   "metadata": {},
   "outputs": [
    {
     "name": "stdout",
     "output_type": "stream",
     "text": [
      "Total trades: 114 Profitable trades 60 Loss trades 54\n",
      "Total pl: -1700.35\n",
      "On an average you have a pl of: -14.92\n",
      "Your next trade has possibility of giving you pl of: 4.95\n"
     ]
    }
   ],
   "source": [
    "print(\"Total trades:\",total_trades,\"Profitable trades\",profit_trades,\"Loss trades\",loss_trades)\n",
    "print(\"Total pl:\", pl_amount)\n",
    "print(\"On an average you have a pl of:\",mean_pl)\n",
    "print(\"Your next trade has possibility of giving you pl of:\",median_pl)"
   ]
  },
  {
   "cell_type": "code",
   "execution_count": 13,
   "metadata": {},
   "outputs": [
    {
     "name": "stdout",
     "output_type": "stream",
     "text": [
      "out of 60 profilable trades you profit total 6955.2 with average profit of 115.92\n",
      "out of 54 loss trades you lost total -8655.55 with average profit of -160.29\n"
     ]
    }
   ],
   "source": [
    "print(f\"out of {profit_trades} profilable trades you profit total {profit_amount} with average profit of {avarage_profit_in_profit_trades}\")\n",
    "print(f\"out of {loss_trades} loss trades you lost total {loss_amount} with average profit of {avarage_loss_in_loss_trades}\")"
   ]
  },
  {
   "cell_type": "code",
   "execution_count": 14,
   "metadata": {},
   "outputs": [],
   "source": [
    "brokerage_paid = tax_df[tax_df[\"Account Head\"]==\"Brokerage - Z\"][\"Tax Amount\"].item()\n",
    "sst_paid = tax_df[tax_df[\"Account Head\"]==\"Securities Transaction Tax - Z\"][\"Tax Amount\"].item()\n",
    "stamp_duty_paid = tax_df[tax_df[\"Account Head\"]==\"Stamp Duty - Z\"][\"Tax Amount\"].item()\n",
    "exchange_transaction_charges_paid = tax_df[tax_df[\"Account Head\"]==\"Exchange Transaction Charges - Z\"][\"Tax Amount\"].item()\n",
    "integrated_GST_paid = tax_df[tax_df[\"Account Head\"]==\"Integrated GST - Z\"][\"Tax Amount\"].item()"
   ]
  },
  {
   "cell_type": "code",
   "execution_count": 15,
   "metadata": {},
   "outputs": [
    {
     "name": "stdout",
     "output_type": "stream",
     "text": [
      "Total brokerage paid 623.69\n",
      "Securities Transaction Tax paid: 1246\n",
      "Stamp duty paid: 149.0335\n",
      "Exchange Transaction Charges paid: 132.879\n",
      "Integrated GST paid: 136.1824\n"
     ]
    }
   ],
   "source": [
    "print(\"Total brokerage paid\",brokerage_paid)\n",
    "print(\"Securities Transaction Tax paid:\", sst_paid)\n",
    "print(\"Stamp duty paid:\",stamp_duty_paid)\n",
    "print(\"Exchange Transaction Charges paid:\",exchange_transaction_charges_paid)\n",
    "print(\"Integrated GST paid:\",integrated_GST_paid)"
   ]
  }
 ],
 "metadata": {
  "kernelspec": {
   "display_name": "Python 3",
   "language": "python",
   "name": "python3"
  },
  "language_info": {
   "codemirror_mode": {
    "name": "ipython",
    "version": 3
   },
   "file_extension": ".py",
   "mimetype": "text/x-python",
   "name": "python",
   "nbconvert_exporter": "python",
   "pygments_lexer": "ipython3",
   "version": "3.6.8"
  }
 },
 "nbformat": 4,
 "nbformat_minor": 4
}
